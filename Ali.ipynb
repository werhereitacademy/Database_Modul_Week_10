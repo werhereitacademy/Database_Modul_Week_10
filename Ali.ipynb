{
 "cells": [
  {
   "cell_type": "markdown",
   "id": "ccfde88c",
   "metadata": {},
   "source": [
    "Database ve tabloların oluşturulup kayıtların eklenmesi"
   ]
  },
  {
   "cell_type": "code",
   "execution_count": 31,
   "id": "603feaef",
   "metadata": {},
   "outputs": [
    {
     "name": "stdout",
     "output_type": "stream",
     "text": [
      "Bağlantı başarılı!\n",
      "Tablolar başarıyla oluşturuldu.\n"
     ]
    }
   ],
   "source": [
    "import psycopg2\n",
    "\n",
    "# bilgilerimle baglanti kuruyorum.\n",
    "con = psycopg2.connect(host=\"localhost\", database= \"company_db\", user= \"postgres\", password= \"Istanbul1235.\", port= \"5432\")\n",
    "print(\"Bağlantı başarılı!\")\n",
    "\n",
    "# # baglantimla bir cursor olusturuyorum.\n",
    "cur = con.cursor()\n",
    "\n",
    "# veritabanimda bulunan tablolarin isimlerini aliyorum.\n",
    "cur.execute(\"\"\"CREATE TABLE IF NOT EXISTS departments (\n",
    "    emp_id INT PRIMARY KEY,\n",
    "    dept_name VARCHAR(100),\n",
    "    dept_id INT  \n",
    ");\n",
    "\"\"\")\n",
    "\n",
    "\n",
    "\n",
    "cur.execute(\"\"\"CREATE TABLE IF NOT EXISTS employees (\n",
    "    emp_id INT PRIMARY KEY,\n",
    "    first_name VARCHAR(100),\n",
    "    last_name VARCHAR(100),\n",
    "    salary NUMERIC(10, 2),\n",
    "    job_title VARCHAR(100),\n",
    "    gender VARCHAR(10),\n",
    "    hire_date DATE\n",
    ");\n",
    "\"\"\")\n",
    "\n",
    "cur.execute(\"\"\"\n",
    "    INSERT INTO departments (emp_id, dept_name, dept_id) VALUES\n",
    "    (17679, 'Operations', 13),\n",
    "    (26650, 'Marketing', 14),\n",
    "    (30840, 'Operations', 13),\n",
    "    (49823, 'Technology', 12),\n",
    "    (51821, 'Operations', 13),\n",
    "    (67323, 'Marketing', 14),\n",
    "    (71119, 'Administrative', 11),\n",
    "    (76589, 'Operations', 13),\n",
    "    (97927, 'Technology', 12);      \n",
    "\"\"\")\n",
    "\n",
    "cur.execute(\"\"\"\n",
    "    INSERT INTO employees (emp_id, first_name, last_name, salary, job_title, gender, hire_date) VALUES\n",
    "    (17679, 'Robert', 'Gilmore', 110000, 'Operations Director', 'Male', '2018-09-04'),\n",
    "    (26650, 'Elvis', 'Ritter', 86000, 'Sales Manager', 'Male', '2017-11-24'),\n",
    "    (30840, 'David', 'Barrow', 85000, 'Data Scientist', 'Male', '2019-12-02'),\n",
    "    (49714, 'Hugo', 'Forester', 55000, 'IT Support Specialist', 'Male', '2019-11-22'),\n",
    "    (51821, 'Linda', 'Foster', 95000, 'Data Scientist', 'Female', '2019-04-29'),\n",
    "    (67323, 'Lisa', 'Wiener', 75000, 'Business Analyst', 'Female', '2018-08-09'),\n",
    "    (70950, 'Rodney', 'Weaver', 87000, 'Project Manager', 'Male', '2018-12-20'),\n",
    "    (71329, 'Gayle', 'Meyer', 77000, 'HR Manager', 'Female', '2019-06-28'),\n",
    "    (76589, 'Jason', 'Christian', 99000, 'Project Manager', 'Male', '2019-01-21'),\n",
    "    (97927, 'Billie', 'Lanning', 67000, 'Web Developer', 'Female', '2018-06-25');\n",
    "\"\"\")\n",
    "\n",
    "con.commit()\n",
    "\n",
    "print(\"Tablolar başarıyla oluşturuldu.\")\n",
    "\n",
    "            "
   ]
  },
  {
   "cell_type": "markdown",
   "id": "98eef3aa",
   "metadata": {},
   "source": [
    "1 - Find the employees who get paid more than Rodney Weaver."
   ]
  },
  {
   "cell_type": "code",
   "execution_count": null,
   "id": "2f3ccbad",
   "metadata": {},
   "outputs": [
    {
     "name": "stdout",
     "output_type": "stream",
     "text": [
      "('Robert', 'Gilmore', Decimal('110000.00'))\n",
      "('Linda', 'Foster', Decimal('95000.00'))\n",
      "('Jason', 'Christian', Decimal('99000.00'))\n"
     ]
    }
   ],
   "source": [
    "import psycopg2\n",
    "\n",
    "# Her sorguda bu bağlantı tekrar kurulmalı\n",
    "conn = psycopg2.connect(\n",
    "    host=\"localhost\",\n",
    "    port=\"5432\",\n",
    "    database=\"company_db\",\n",
    "    user=\"postgres\",\n",
    "    password=\"Istanbul1235.\"\n",
    ")\n",
    "\n",
    "cur = conn.cursor()\n",
    "# ---------------------------------------------------------\n",
    "cur.execute(\"\"\"\n",
    "SELECT first_name, last_name, salary FROM employees\n",
    "WHERE salary > (\n",
    "    SELECT salary\n",
    "    FROM employees\n",
    "    WHERE first_name = 'Rodney' AND last_name = 'Weaver'\n",
    ");\n",
    "\"\"\")\n",
    "\n",
    "rows = cur.fetchall()\n",
    "for row in rows:\n",
    "    print(row)\n",
    "# -------------------------------------------------------------\n",
    "cur.close()\n",
    "conn.close()\n"
   ]
  },
  {
   "cell_type": "markdown",
   "id": "0cc3d918",
   "metadata": {},
   "source": [
    "2 - Find the average, min and max salaries"
   ]
  },
  {
   "cell_type": "code",
   "execution_count": null,
   "id": "eb7d3b7a",
   "metadata": {},
   "outputs": [
    {
     "name": "stdout",
     "output_type": "stream",
     "text": [
      "Ortalama Maaş: 83600.00\n",
      "En Düşük Maaş: 55000.00\n",
      "En Yüksek Maaş: 110000.00\n"
     ]
    }
   ],
   "source": [
    "import psycopg2\n",
    "\n",
    "# Her sorguda bu bağlantı tekrar kurulmalı\n",
    "conn = psycopg2.connect(\n",
    "    host=\"localhost\",\n",
    "    port=\"5432\",\n",
    "    database=\"company_db\",\n",
    "    user=\"postgres\",\n",
    "    password=\"Istanbul1235.\"\n",
    ")\n",
    "\n",
    "cur = conn.cursor()\n",
    "# -------------------------------------------------------------\n",
    "cur.execute(\"\"\"\n",
    "SELECT AVG(salary), MIN(salary), MAX(salary) FROM employees;\n",
    "\"\"\")\n",
    "\n",
    "result= cur.fetchone()\n",
    "print(\"Ortalama Maaş:\", round(result[0],2))\n",
    "print(\"En Düşük Maaş:\", result[1])\n",
    "print(\"En Yüksek Maaş:\", result[2])\n",
    "# -------------------------------------------------------------\n",
    "cur.close() \n",
    "conn.close()\n",
    "          "
   ]
  },
  {
   "cell_type": "markdown",
   "id": "441acbe5",
   "metadata": {},
   "source": [
    "3 - Find the employees whose salary is more than 8700. Our query should return first name, last name, and salary info of the employees."
   ]
  },
  {
   "cell_type": "code",
   "execution_count": null,
   "id": "ad5339d6",
   "metadata": {},
   "outputs": [
    {
     "name": "stdout",
     "output_type": "stream",
     "text": [
      "('Robert', 'Gilmore', Decimal('110000.00'))\n",
      "('Linda', 'Foster', Decimal('95000.00'))\n",
      "('Jason', 'Christian', Decimal('99000.00'))\n"
     ]
    }
   ],
   "source": [
    "import psycopg2\n",
    "\n",
    "# Her sorguda bu bağlantı tekrar kurulmalı\n",
    "conn = psycopg2.connect(\n",
    "    host=\"localhost\",\n",
    "    port=\"5432\",\n",
    "    database=\"company_db\",\n",
    "    user=\"postgres\",\n",
    "    password=\"Istanbul1235.\"\n",
    ")\n",
    "\n",
    "cur = conn.cursor()\n",
    "# -------------------------------------------------------------\n",
    "cur.execute(\"\"\"\n",
    "SELECT first_name, last_name, salary FROM employees\n",
    "WHERE salary > 87000;\n",
    "\"\"\")\n",
    "rows = cur.fetchall()\n",
    "for row in rows:\n",
    "    print(row)\n",
    "# -------------------------------------------------------------\n",
    "cur.close() \n",
    "conn.close()"
   ]
  },
  {
   "cell_type": "markdown",
   "id": "1185cde6",
   "metadata": {},
   "source": [
    "4 - Find the employees (first name, last name from employees table) who work under the Operations department (departments table). Our query should return first name and last name info."
   ]
  },
  {
   "cell_type": "code",
   "execution_count": null,
   "id": "b915a1f3",
   "metadata": {},
   "outputs": [
    {
     "name": "stdout",
     "output_type": "stream",
     "text": [
      "('Robert', 'Gilmore')\n",
      "('David', 'Barrow')\n",
      "('Linda', 'Foster')\n",
      "('Jason', 'Christian')\n"
     ]
    }
   ],
   "source": [
    "import psycopg2\n",
    "\n",
    "# Her sorguda bu bağlantı tekrar kurulmalı\n",
    "conn = psycopg2.connect(\n",
    "    host=\"localhost\",\n",
    "    port=\"5432\",\n",
    "    database=\"company_db\",\n",
    "    user=\"postgres\",\n",
    "    password=\"Istanbul1235.\"\n",
    ")\n",
    "\n",
    "cur = conn.cursor()\n",
    "# -------------------------------------------------------------\n",
    "cur.execute(\"\"\"\n",
    "SELECT e.first_name, e.last_name FROM employees e\n",
    "JOIN departments d ON e.emp_id = d.emp_id\n",
    "WHERE d.dept_name = 'Operations';\n",
    "\"\"\")\n",
    "rows = cur.fetchall()\n",
    "for row in rows:\n",
    "    print(row)\n",
    "# -------------------------------------------------------------\n",
    "cur.close() \n",
    "conn.close()"
   ]
  },
  {
   "cell_type": "markdown",
   "id": "68db64e1",
   "metadata": {},
   "source": [
    "5 - Find the employees (first name, last name from employees table) who work under the Technology department (departments table). Our query should return first name and last name info."
   ]
  },
  {
   "cell_type": "code",
   "execution_count": 32,
   "id": "c520fe98",
   "metadata": {},
   "outputs": [
    {
     "name": "stdout",
     "output_type": "stream",
     "text": [
      "('Billie', 'Lanning')\n"
     ]
    }
   ],
   "source": [
    "import psycopg2\n",
    "\n",
    "conn = psycopg2.connect(\n",
    "    host=\"localhost\",\n",
    "    port=\"5432\",\n",
    "    database=\"company_db\",\n",
    "    user=\"postgres\",\n",
    "    password=\"Istanbul1235.\"\n",
    ")\n",
    "\n",
    "cur = conn.cursor()\n",
    "# -------------------------------------------------------------\n",
    "cur.execute(\"\"\"\n",
    "SELECT e.first_name, e.last_name FROM employees e\n",
    "JOIN departments d ON e.emp_id = d.emp_id\n",
    "WHERE d.dept_name = 'Technology';\n",
    "\"\"\")\n",
    "rows = cur.fetchall()\n",
    "for row in rows:\n",
    "    print(row)\n",
    "# -------------------------------------------------------------\n",
    "cur.close() \n",
    "conn.close()\n"
   ]
  },
  {
   "cell_type": "markdown",
   "id": "69cbf637",
   "metadata": {},
   "source": [
    "6 - Find the average salary of female employees."
   ]
  },
  {
   "cell_type": "code",
   "execution_count": 33,
   "id": "d063513c",
   "metadata": {},
   "outputs": [
    {
     "name": "stdout",
     "output_type": "stream",
     "text": [
      "Kadın çalışanların ortalama maaşı: 78500.00\n"
     ]
    }
   ],
   "source": [
    "import psycopg2\n",
    "\n",
    "conn = psycopg2.connect(\n",
    "    host=\"localhost\",\n",
    "    port=\"5432\",\n",
    "    database=\"company_db\",\n",
    "    user=\"postgres\",\n",
    "    password=\"Istanbul1235.\"\n",
    ")\n",
    "\n",
    "cur = conn.cursor()\n",
    "# -------------------------------------------------------------\n",
    "cur.execute(\"\"\"\n",
    "SELECT AVG(salary) FROM employees\n",
    "WHERE gender = 'Female';\n",
    "\"\"\")\n",
    "avarage = cur.fetchone()[0]\n",
    "print(\"Kadın çalışanların ortalama maaşı:\", round(avarage, 2))\n",
    "# -------------------------------------------------------------\n",
    "cur.close() \n",
    "conn.close()"
   ]
  },
  {
   "cell_type": "markdown",
   "id": "2daebe7c",
   "metadata": {},
   "source": [
    "7 - Find the average salaries of each department."
   ]
  },
  {
   "cell_type": "code",
   "execution_count": 34,
   "id": "fd6b9a41",
   "metadata": {},
   "outputs": [
    {
     "name": "stdout",
     "output_type": "stream",
     "text": [
      "Departman: Technology | Ortalama Maaş: 67000.00\n",
      "Departman: Marketing | Ortalama Maaş: 80500.00\n",
      "Departman: Operations | Ortalama Maaş: 97250.00\n"
     ]
    }
   ],
   "source": [
    "import psycopg2\n",
    "\n",
    "conn = psycopg2.connect(\n",
    "    host=\"localhost\",\n",
    "    port=\"5432\",\n",
    "    database=\"company_db\",\n",
    "    user=\"postgres\",\n",
    "    password=\"Istanbul1235.\"\n",
    ")\n",
    "\n",
    "cur = conn.cursor()\n",
    "# -------------------------------------------------------------\n",
    "cur.execute(\"\"\"\n",
    "SELECT d.dept_name, AVG(e.salary) FROM employees e\n",
    "JOIN departments d ON e.emp_id = d.emp_id\n",
    "GROUP BY d.dept_name;\n",
    "\"\"\")\n",
    "rows = cur.fetchall()\n",
    "for row in rows:\n",
    "    print(\"Departman:\", row[0], \"| Ortalama Maaş:\", round(row[1], 2))\n",
    "# -------------------------------------------------------------\n",
    "cur.close() \n",
    "conn.close()"
   ]
  },
  {
   "cell_type": "markdown",
   "id": "56d2045d",
   "metadata": {},
   "source": [
    "8 - Find the oldest and newest employees."
   ]
  },
  {
   "cell_type": "code",
   "execution_count": 35,
   "id": "dda1a998",
   "metadata": {},
   "outputs": [
    {
     "name": "stdout",
     "output_type": "stream",
     "text": [
      "En eski calisan: ('Elvis', 'Ritter', datetime.date(2017, 11, 24))\n",
      "En yeni calisan: ('David', 'Barrow', datetime.date(2019, 12, 2))\n"
     ]
    }
   ],
   "source": [
    "import psycopg2\n",
    "\n",
    "conn = psycopg2.connect(\n",
    "    host=\"localhost\",\n",
    "    port=\"5432\",\n",
    "    database=\"company_db\",\n",
    "    user=\"postgres\",\n",
    "    password=\"Istanbul1235.\"\n",
    ")\n",
    "\n",
    "cur = conn.cursor()\n",
    "# -------------------------------------------------------------\n",
    "cur.execute(\"\"\"\n",
    "SELECT first_name, last_name, hire_date FROM employees\n",
    "ORDER BY hire_date ASC\n",
    "LIMIT 1;\n",
    "\"\"\")\n",
    "oldest = cur.fetchone()\n",
    "print(\"En eski calisan:\", oldest)\n",
    "\n",
    "cur.execute(\"\"\"\n",
    "SELECT first_name, last_name, hire_date FROM employees\n",
    "ORDER BY hire_date DESC\n",
    "LIMIT 1;\n",
    "\"\"\")\n",
    "newest = cur.fetchone()\n",
    "print(\"En yeni calisan:\", newest)\n",
    "# -------------------------------------------------------------\n",
    "cur.close() \n",
    "conn.close()"
   ]
  },
  {
   "cell_type": "markdown",
   "id": "95de0e03",
   "metadata": {},
   "source": [
    "9 - Find the hiring date and department of the highest paid employee"
   ]
  },
  {
   "cell_type": "code",
   "execution_count": 38,
   "id": "fea4e9aa",
   "metadata": {},
   "outputs": [
    {
     "name": "stdout",
     "output_type": "stream",
     "text": [
      "En yüksek maaş alan çalışan:\n",
      "İsim: Robert Gilmore\n",
      "İşe Başlama Tarihi: 2018-09-04\n",
      "Departman: Operations\n",
      "Maaş: 110000.00\n"
     ]
    }
   ],
   "source": [
    "import psycopg2\n",
    "\n",
    "conn = psycopg2.connect(\n",
    "    host=\"localhost\",\n",
    "    port=\"5432\",\n",
    "    database=\"company_db\",\n",
    "    user=\"postgres\",\n",
    "    password=\"Istanbul1235.\"\n",
    ")\n",
    "\n",
    "cur = conn.cursor()\n",
    "# -------------------------------------------------------------\n",
    "cur.execute(\"\"\"\n",
    "SELECT e.first_name, e.last_name, e.hire_date, d.dept_name , e.salary\n",
    "FROM employees e\n",
    "JOIN departments d ON e.emp_id = d.emp_id\n",
    "WHERE e.salary = (\n",
    "    SELECT MAX(salary) FROM employees\n",
    ");\n",
    "\"\"\")\n",
    "\n",
    "highest_paid = cur.fetchone()\n",
    "print(\"En yüksek maaş alan çalışan:\")\n",
    "print(\"İsim:\", highest_paid[0], highest_paid[1])\n",
    "print(\"İşe Başlama Tarihi:\", highest_paid[2])\n",
    "print(\"Departman:\", highest_paid[3])\n",
    "print(\"Maaş:\", highest_paid[4])\n",
    "# -------------------------------------------------------------\n",
    "cur.close() \n",
    "conn.close()\n"
   ]
  },
  {
   "cell_type": "markdown",
   "id": "5f6a39a7",
   "metadata": {},
   "source": [
    "10 - Find the hiring date and department of the lowest paid employee"
   ]
  },
  {
   "cell_type": "code",
   "execution_count": null,
   "id": "24704580",
   "metadata": {},
   "outputs": [
    {
     "name": "stdout",
     "output_type": "stream",
     "text": [
      "En düşük maaş alan çalışan:\n",
      "İsim: Robert Gilmore\n",
      "İşe Başlama Tarihi: 2018-09-04\n",
      "Departman: Operations\n",
      "Maaş: 110000.00\n"
     ]
    }
   ],
   "source": [
    "import psycopg2\n",
    "\n",
    "conn = psycopg2.connect(\n",
    "    host=\"localhost\",\n",
    "    port=\"5432\",\n",
    "    database=\"company_db\",\n",
    "    user=\"postgres\",\n",
    "    password=\"Istanbul1235.\"\n",
    ")\n",
    "\n",
    "cur = conn.cursor()\n",
    "# -------------------------------------------------------------\n",
    "cur.execute(\"\"\"\n",
    "SELECT e.first_name, e.last_name, e.hire_date, d.dept_name , e.salary\n",
    "FROM employees e\n",
    "JOIN departments d ON e.emp_id = d.emp_id\n",
    "WHERE e.salary = (\n",
    "    SELECT MAX(salary) FROM employees\n",
    ");\n",
    "\"\"\")\n",
    "\n",
    "lowest_paid = cur.fetchone()\n",
    "print(\"En düşük maaş alan çalışan:\")\n",
    "print(\"İsim:\", lowest_paid[0], lowest_paid[1])\n",
    "print(\"İşe Başlama Tarihi:\", lowest_paid[2])\n",
    "print(\"Departman:\", lowest_paid[3])\n",
    "print(\"Maaş:\", lowest_paid[4])\n",
    "# -------------------------------------------------------------\n",
    "cur.close() \n",
    "conn.close()"
   ]
  }
 ],
 "metadata": {
  "kernelspec": {
   "display_name": "Python 3",
   "language": "python",
   "name": "python3"
  },
  "language_info": {
   "codemirror_mode": {
    "name": "ipython",
    "version": 3
   },
   "file_extension": ".py",
   "mimetype": "text/x-python",
   "name": "python",
   "nbconvert_exporter": "python",
   "pygments_lexer": "ipython3",
   "version": "3.13.5"
  }
 },
 "nbformat": 4,
 "nbformat_minor": 5
}
