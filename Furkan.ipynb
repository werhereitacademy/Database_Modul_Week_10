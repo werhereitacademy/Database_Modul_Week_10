{
 "cells": [
  {
   "cell_type": "markdown",
   "id": "ccfde88c",
   "metadata": {},
   "source": [
    "Database ve tabloların oluşturulup kayıtların eklenmesi"
   ]
  },
  {
   "cell_type": "code",
   "execution_count": null,
   "id": "603feaef",
   "metadata": {},
   "outputs": [],
   "source": [
    "import sqlite3\n",
    "import pandas as pd\n",
    "\n",
    "conn = sqlite3.connect('company.db')\n",
    "\n",
    "conn.execute(\"\"\"\n",
    "CREATE TABLE IF NOT EXISTS departments (\n",
    "    id INTEGER PRIMARY KEY,\n",
    "    name TEXT\n",
    ")\n",
    "\"\"\")\n",
    "conn.execute(\"\"\"\n",
    "CREATE TABLE IF NOT EXISTS employees (\n",
    "    id INTEGER PRIMARY KEY,\n",
    "    first_name TEXT,\n",
    "    last_name TEXT,\n",
    "    gender TEXT,\n",
    "    salary INTEGER,\n",
    "    hire_date TEXT,\n",
    "    department_id INTEGER,\n",
    "    FOREIGN KEY(department_id) REFERENCES departments(id)\n",
    ")\n",
    "\"\"\")\n",
    "conn.execute(\"INSERT OR IGNORE INTO departments (id, name) VALUES (1, 'Operations'), (2, 'Technology')\")\n",
    "conn.execute(\"\"\"\n",
    "INSERT OR IGNORE INTO employees (id, first_name, last_name, gender, salary, hire_date, department_id) VALUES\n",
    "(1, 'Rodney', 'Weaver', 'M', 8000, '2015-06-01', 1),\n",
    "(2, 'Alice', 'Smith', 'F', 9000, '2017-03-15', 2),\n",
    "(3, 'Bob', 'Johnson', 'M', 9500, '2018-07-22', 1),\n",
    "(4, 'Carol', 'Williams', 'F', 8700, '2019-11-30', 2)\n",
    "\"\"\")\n",
    "conn.commit()\n"
   ]
  },
  {
   "cell_type": "markdown",
   "id": "98eef3aa",
   "metadata": {},
   "source": [
    "1 - Find the employees who get paid more than Rodney Weaver."
   ]
  },
  {
   "cell_type": "code",
   "execution_count": null,
   "id": "2f3ccbad",
   "metadata": {},
   "outputs": [],
   "source": [
    "import sqlite3\n",
    "import pandas as pd\n",
    "\n",
    "conn = sqlite3.connect('company.db')\n",
    "\n",
    "salary = pd.read_sql(\"SELECT salary FROM employees WHERE first_name='Rodney' AND last_name='Weaver'\", conn).iloc[0,0]\n",
    "df = pd.read_sql(f\"SELECT first_name, last_name, salary FROM employees WHERE salary > {salary}\", conn)\n",
    "df\n"
   ]
  },
  {
   "cell_type": "markdown",
   "id": "0cc3d918",
   "metadata": {},
   "source": [
    "2 - Find the average, min and max salaries"
   ]
  },
  {
   "cell_type": "code",
   "execution_count": null,
   "id": "eb7d3b7a",
   "metadata": {},
   "outputs": [],
   "source": [
    "df = pd.read_sql(\"SELECT AVG(salary) as avg_salary, MIN(salary) as min_salary, MAX(salary) as max_salary FROM employees\", conn)\n",
    "df\n"
   ]
  },
  {
   "cell_type": "markdown",
   "id": "441acbe5",
   "metadata": {},
   "source": [
    "3 - Find the employees whose salary is more than 8700. Our query should return first name, last name, and salary info of the employees."
   ]
  },
  {
   "cell_type": "code",
   "execution_count": null,
   "id": "ad5339d6",
   "metadata": {},
   "outputs": [],
   "source": [
    "df = pd.read_sql(\"SELECT first_name, last_name, salary FROM employees WHERE salary > 8700\", conn)\n",
    "df\n"
   ]
  },
  {
   "cell_type": "markdown",
   "id": "1185cde6",
   "metadata": {},
   "source": [
    "4 - Find the employees (first name, last name from employees table) who work under the Operations department (departments table). Our query should return first name and last name info."
   ]
  },
  {
   "cell_type": "code",
   "execution_count": null,
   "id": "b915a1f3",
   "metadata": {},
   "outputs": [],
   "source": [
    "df = pd.read_sql(\"\"\"\n",
    "SELECT e.first_name, e.last_name FROM employees e\n",
    "JOIN departments d ON e.department_id = d.id\n",
    "WHERE d.name = 'Operations'\n",
    "\"\"\", conn)\n"
   ]
  },
  {
   "cell_type": "markdown",
   "id": "68db64e1",
   "metadata": {},
   "source": [
    "5 - Find the employees (first name, last name from employees table) who work under the Technology department (departments table). Our query should return first name and last name info."
   ]
  },
  {
   "cell_type": "code",
   "execution_count": null,
   "id": "c520fe98",
   "metadata": {},
   "outputs": [],
   "source": [
    "df = pd.read_sql(\"\"\"\n",
    "SELECT e.first_name, e.last_name FROM employees e\n",
    "JOIN departments d ON e.department_id = d.id\n",
    "WHERE d.name = 'Technology'\n",
    "\"\"\", conn)\n"
   ]
  },
  {
   "cell_type": "markdown",
   "id": "69cbf637",
   "metadata": {},
   "source": [
    "6 - Find the average salary of female employees."
   ]
  },
  {
   "cell_type": "code",
   "execution_count": null,
   "id": "d063513c",
   "metadata": {},
   "outputs": [],
   "source": [
    "df = pd.read_sql(\"SELECT AVG(salary) as avg_female_salary FROM employees WHERE gender = 'F'\", conn)\n",
    "df"
   ]
  },
  {
   "cell_type": "markdown",
   "id": "2daebe7c",
   "metadata": {},
   "source": [
    "7 - Find the average salaries of each department."
   ]
  },
  {
   "cell_type": "code",
   "execution_count": null,
   "id": "fd6b9a41",
   "metadata": {},
   "outputs": [],
   "source": [
    "df = pd.read_sql(\"\"\"\n",
    "SELECT d.name as department, AVG(e.salary) as avg_salary\n",
    "FROM employees e\n",
    "JOIN departments d ON e.department_id = d.id\n",
    "GROUP BY d.name\n",
    "\"\"\","
   ]
  },
  {
   "cell_type": "markdown",
   "id": "56d2045d",
   "metadata": {},
   "source": [
    "8 - Find the oldest and newest employees."
   ]
  },
  {
   "cell_type": "code",
   "execution_count": null,
   "id": "dda1a998",
   "metadata": {},
   "outputs": [],
   "source": [
    "df_oldest = pd.read_sql(\"SELECT first_name, last_name, hire_date FROM employees ORDER BY hire_date ASC LIMIT 1\", conn)\n",
    "df_newest = pd.read_sql(\"SELECT first_name, last_name, hire_date FROM employees ORDER BY hire_date DESC LIMIT 1\", conn)"
   ]
  },
  {
   "cell_type": "markdown",
   "id": "95de0e03",
   "metadata": {},
   "source": [
    "9 - Find the hiring date and department of the highest paid employee"
   ]
  },
  {
   "cell_type": "code",
   "execution_count": null,
   "id": "fea4e9aa",
   "metadata": {},
   "outputs": [],
   "source": [
    "df = pd.read_sql(\"\"\"\n",
    "SELECT e.hire_date, d.name as department FROM employees e\n",
    "JOIN departments d ON e.department_id = d.id\n",
    "WHERE e.salary = (SELECT MAX(salary) FROM employees)\n",
    "\"\"\", conn)"
   ]
  },
  {
   "cell_type": "markdown",
   "id": "5f6a39a7",
   "metadata": {},
   "source": [
    "10 - Find the hiring date and department of the lowest paid employee"
   ]
  },
  {
   "cell_type": "code",
   "execution_count": null,
   "id": "24704580",
   "metadata": {},
   "outputs": [],
   "source": [
    "df = pd.read_sql(\"\"\"\n",
    "SELECT e.hire_date, d.name as department FROM employees e\n",
    "JOIN departments d ON e.department_id = d.id\n",
    "WHERE e.salary = (SELECT MIN(salary) FROM employees)\n",
    "\"\"\","
   ]
  }
 ],
 "metadata": {
  "kernelspec": {
   "display_name": "Python 3",
   "language": "python",
   "name": "python3"
  },
  "language_info": {
   "codemirror_mode": {
    "name": "ipython",
    "version": 3
   },
   "file_extension": ".py",
   "mimetype": "text/x-python",
   "name": "python",
   "nbconvert_exporter": "python",
   "pygments_lexer": "ipython3",
   "version": "3.13.3"
  }
 },
 "nbformat": 4,
 "nbformat_minor": 5
}
