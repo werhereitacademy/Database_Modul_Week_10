{
 "cells": [
  {
   "cell_type": "markdown",
   "id": "ccfde88c",
   "metadata": {},
   "source": [
    "Database ve tabloların oluşturulup kayıtların eklenmesi"
   ]
  },
  {
   "cell_type": "code",
   "execution_count": 3,
   "id": "603feaef",
   "metadata": {},
   "outputs": [
    {
     "name": "stdout",
     "output_type": "stream",
     "text": [
      "company veritabanı zaten mevcut.\n"
     ]
    }
   ],
   "source": [
    "import psycopg2\n",
    "from psycopg2.extensions import ISOLATION_LEVEL_AUTOCOMMIT\n",
    "\n",
    "# Bağlantı bilgileri\n",
    "credentials = {\n",
    "    \"dbname\": \"company\",\n",
    "    \"user\": \"postgres\",\n",
    "    \"password\": \"12345\",\n",
    "    \"host\": \"localhost\",\n",
    "    \"port\": \"5432\"\n",
    "}\n",
    "\n",
    "def create_database_if_not_exists(creds):\n",
    "    # Önce postgres veritabanına bağlan\n",
    "    conn = psycopg2.connect(\n",
    "        dbname=\"postgres\",\n",
    "        user=creds[\"user\"],\n",
    "        password=creds[\"password\"],\n",
    "        host=creds[\"host\"],\n",
    "        port=creds[\"port\"]\n",
    "    )\n",
    "    conn.set_isolation_level(ISOLATION_LEVEL_AUTOCOMMIT)\n",
    "    cur = conn.cursor()\n",
    "    try:\n",
    "        cur.execute(f\"CREATE DATABASE {creds['dbname']};\")\n",
    "        print(f\"{creds['dbname']} veritabanı oluşturuldu.\")\n",
    "    except psycopg2.errors.DuplicateDatabase:\n",
    "        print(f\"{creds['dbname']} veritabanı zaten mevcut.\")\n",
    "    finally:\n",
    "        cur.close()\n",
    "        conn.close()\n",
    "\n",
    "def create_tables_and_insert_data(creds):\n",
    "    conn = psycopg2.connect(**creds)\n",
    "    cur = conn.cursor()\n",
    "\n",
    "    # Tablo oluşturma\n",
    "    cur.execute(\"\"\"\n",
    "        CREATE TABLE IF NOT EXISTS departments (\n",
    "            emp_id SERIAL PRIMARY KEY,\n",
    "            dept_name VARCHAR(50) NOT NULL,\n",
    "            dept_id INTEGER NOT NULL\n",
    "        );\n",
    "    \"\"\")\n",
    "    cur.execute(\"\"\"\n",
    "        CREATE TABLE IF NOT EXISTS employees (\n",
    "            emp_id INTEGER PRIMARY KEY,\n",
    "            first_name VARCHAR(50),\n",
    "            last_name VARCHAR(50),\n",
    "            salary INTEGER,\n",
    "            job_title VARCHAR(100),\n",
    "            gender VARCHAR(10),\n",
    "            hire_date DATE NOT NULL\n",
    "        );\n",
    "    \"\"\")\n",
    "\n",
    "    # departments verileri\n",
    "    departments_data = [\n",
    "        (17679, \"Operations\", 13),\n",
    "        (26650, \"Marketing\", 14),\n",
    "        (30840, \"Operations\", 13),\n",
    "        (49823, \"Technology\", 12),\n",
    "        (51821, \"Operations\", 13),\n",
    "        (67323, \"Marketing\", 14),\n",
    "        (71119, \"Administrative\", 11),\n",
    "        (76589, \"Operations\", 13),\n",
    "        (97927, \"Technology\", 12)\n",
    "    ]\n",
    "\n",
    "    # employees verileri\n",
    "    employees_data = [\n",
    "        (17679, \"Robert\", \"Gilmore\", 110000, \"Operations Director\", \"Male\", \"2018-09-04\"),\n",
    "        (26650, \"Elvis\", \"Ritter\", 86000, \"Sales Manager\", \"Male\", \"2017-11-24\"),\n",
    "        (30840, \"David\", \"Barrow\", 85000, \"Data Scientist\", \"Male\", \"2019-12-02\"),\n",
    "        (49714, \"Hugo\", \"Forester\", 55000, \"IT Support Specialist\", \"Male\", \"2019-11-22\"),\n",
    "        (51821, \"Linda\", \"Foster\", 95000, \"Data Scientist\", \"Female\", \"2019-04-29\"),\n",
    "        (67323, \"Lisa\", \"Wiener\", 75000, \"Business Analyst\", \"Female\", \"2018-08-09\"),\n",
    "        (70950, \"Rodney\", \"Weaver\", 87000, \"Project Manager\", \"Male\", \"2018-12-20\"),\n",
    "        (71329, \"Gayle\", \"Meyer\", 77000, \"HR Manager\", \"Female\", \"2019-06-28\"),\n",
    "        (76589, \"Jason\", \"Christian\", 99000, \"Project Manager\", \"Male\", \"2019-01-21\"),\n",
    "        (97927, \"Billie\", \"Lanning\", 67000, \"Web Developer\", \"Female\", \"2018-06-25\")\n",
    "    ]\n",
    "\n",
    "    # Kayıt ekleme (varsa hata vermemesi için ON CONFLICT DO NOTHING)\n",
    "    cur.executemany(\"\"\"\n",
    "        INSERT INTO departments (emp_id, dept_name, dept_id)\n",
    "        VALUES (%s, %s, %s)\n",
    "        ON CONFLICT (emp_id) DO NOTHING;\n",
    "    \"\"\", departments_data)\n",
    "\n",
    "    cur.executemany(\"\"\"\n",
    "        INSERT INTO employees (emp_id, first_name, last_name, salary, job_title, gender, hire_date)\n",
    "        VALUES (%s, %s, %s, %s, %s, %s, %s)\n",
    "        ON CONFLICT (emp_id) DO NOTHING;\n",
    "    \"\"\", employees_data)\n",
    "\n",
    "    conn.commit()\n",
    "    cur.close()\n",
    "    conn.close()\n",
    "\n",
    "create_database_if_not_exists(credentials)\n",
    "create_tables_and_insert_data(credentials)"
   ]
  },
  {
   "cell_type": "markdown",
   "id": "2ce60e2d",
   "metadata": {},
   "source": [
    "SQL Fetchall"
   ]
  },
  {
   "cell_type": "code",
   "execution_count": 59,
   "id": "0e2b22e5",
   "metadata": {},
   "outputs": [],
   "source": [
    "def get_data_list(creds, query, params=None):\n",
    "    \"\"\"Verilen sorguyu çalıştırır ve sonuçları döndürür.\"\"\"\n",
    "    import psycopg2\n",
    "    results = []\n",
    "    try:\n",
    "        with psycopg2.connect(**creds) as conn:\n",
    "            with conn.cursor() as cur:\n",
    "                cur.execute(query, params or ())\n",
    "                results = cur.fetchall()\n",
    "    except Exception as e:\n",
    "        print(\"Veritabanı hatası:\", e)\n",
    "    return results"
   ]
  },
  {
   "cell_type": "markdown",
   "id": "1f03c8cc",
   "metadata": {},
   "source": [
    "SQL Fetchone"
   ]
  },
  {
   "cell_type": "code",
   "execution_count": 60,
   "id": "8566fbc1",
   "metadata": {},
   "outputs": [],
   "source": [
    "def get_data(creds, query, params=None):\n",
    "    \"\"\"Verilen sorguyu çalıştırır ve sonuçları döndürür.\"\"\"\n",
    "    import psycopg2\n",
    "    results = []\n",
    "    try:\n",
    "        with psycopg2.connect(**creds) as conn:\n",
    "            with conn.cursor() as cur:\n",
    "                cur.execute(query, params or ())\n",
    "                results = cur.fetchone()\n",
    "    except Exception as e:\n",
    "        print(\"Veritabanı hatası:\", e)\n",
    "    return results"
   ]
  },
  {
   "cell_type": "markdown",
   "id": "98eef3aa",
   "metadata": {},
   "source": [
    "1 - Find the employees who get paid more than Rodney Weaver."
   ]
  },
  {
   "cell_type": "code",
   "execution_count": null,
   "id": "2f3ccbad",
   "metadata": {},
   "outputs": [
    {
     "name": "stdout",
     "output_type": "stream",
     "text": [
      "('Robert', 'Gilmore', 110000)\n",
      "('Jason', 'Christian', 99000)\n",
      "('Linda', 'Foster', 95000)\n"
     ]
    }
   ],
   "source": [
    "sql_query = \"\"\"\n",
    "    SELECT e.first_name, e.last_name, e.salary\n",
    "    FROM employees e\n",
    "    CROSS JOIN (\n",
    "        SELECT salary FROM employees\n",
    "        WHERE first_name =  %s AND last_name =  %s\n",
    "        LIMIT 1\n",
    "    ) r\n",
    "    WHERE e.salary > r.salary\n",
    "    ORDER BY e.salary DESC;\n",
    "\"\"\"\n",
    "\n",
    "results = get_data_list(credentials, sql_query, ('Rodney', 'Weaver'))\n",
    "\n",
    "for row in results:\n",
    "    print(row)\n"
   ]
  },
  {
   "cell_type": "markdown",
   "id": "0cc3d918",
   "metadata": {},
   "source": [
    "2 - Find the average, min and max salaries"
   ]
  },
  {
   "cell_type": "code",
   "execution_count": null,
   "id": "eb7d3b7a",
   "metadata": {},
   "outputs": [
    {
     "name": "stdout",
     "output_type": "stream",
     "text": [
      "Ortalama Maaş: 83600 \n",
      "Maksimum Maaş: 110000 \n",
      "Minimum Maaş: 55000\n"
     ]
    }
   ],
   "source": [
    "sql_query = \"\"\"\n",
    "    SELECT \n",
    "        CAST(ROUND(AVG(salary),0) AS INTEGER) AS average_salary,\n",
    "        MAX(salary) AS maximum_salary,\n",
    "        MIN(salary) AS minimum_salary\n",
    "    FROM employees;\n",
    "\"\"\"\n",
    "\n",
    "results = get_data(credentials, sql_query)\n",
    "\n",
    "if results:\n",
    "    print(f\"Ortalama Maaş: {results[0]} \\nMaksimum Maaş: {results[1]} \\nMinimum Maaş: {results[2]}\")"
   ]
  },
  {
   "cell_type": "markdown",
   "id": "441acbe5",
   "metadata": {},
   "source": [
    "3 - Find the employees whose salary is more than 87000. Our query should return first name, last name, and salary info of the employees."
   ]
  },
  {
   "cell_type": "code",
   "execution_count": null,
   "id": "ad5339d6",
   "metadata": {},
   "outputs": [
    {
     "name": "stdout",
     "output_type": "stream",
     "text": [
      "Robert Gilmore 110000\n",
      "Jason Christian 99000\n",
      "Linda Foster 95000\n"
     ]
    }
   ],
   "source": [
    "sql_query = \"\"\"\n",
    "    SELECT e.first_name, e.last_name, e.salary\n",
    "    FROM employees e\n",
    "    WHERE e.salary > 87000\n",
    "    ORDER BY e.salary DESC;\n",
    "\"\"\"\n",
    "\n",
    "results = get_data_list(credentials, sql_query, ('Rodney', 'Weaver'))\n",
    "\n",
    "for row in results:\n",
    "    print(row[0] +\" \"+ row[1], row[2])"
   ]
  },
  {
   "cell_type": "markdown",
   "id": "1185cde6",
   "metadata": {},
   "source": [
    "4 - Find the employees (first name, last name from employees table) who work under the Operations department (departments table). Our query should return first name and last name info."
   ]
  },
  {
   "cell_type": "code",
   "execution_count": null,
   "id": "b915a1f3",
   "metadata": {},
   "outputs": [
    {
     "name": "stdout",
     "output_type": "stream",
     "text": [
      "Robert Gilmore\n",
      "David Barrow\n",
      "Linda Foster\n",
      "Jason Christian\n"
     ]
    }
   ],
   "source": [
    "sql_query = \"\"\"\n",
    "    SELECT e.first_name, e.last_name\n",
    "    FROM employees e\n",
    "    JOIN departments d ON e.emp_id = d.emp_id\n",
    "    WHERE d.dept_name = %s;\n",
    "\"\"\"\n",
    "\n",
    "results = get_data_list(credentials, sql_query, (\"Operations\",))\n",
    "\n",
    "for row in results:\n",
    "    print(row[0] +\" \"+ row[1])"
   ]
  },
  {
   "cell_type": "markdown",
   "id": "68db64e1",
   "metadata": {},
   "source": [
    "5 - Find the employees (first name, last name from employees table) who work under the Technology department (departments table). Our query should return first name and last name info."
   ]
  },
  {
   "cell_type": "code",
   "execution_count": null,
   "id": "c520fe98",
   "metadata": {},
   "outputs": [
    {
     "name": "stdout",
     "output_type": "stream",
     "text": [
      "Billie Lanning\n"
     ]
    }
   ],
   "source": [
    "sql_query = \"\"\"\n",
    "    SELECT e.first_name, e.last_name\n",
    "    FROM employees e\n",
    "    JOIN departments d ON e.emp_id = d.emp_id\n",
    "    WHERE d.dept_name = %s;\n",
    "\"\"\"\n",
    "\n",
    "results = get_data_list(credentials, sql_query, (\"Technology\",))\n",
    "\n",
    "for row in results:\n",
    "    print(row[0] +\" \"+ row[1])"
   ]
  },
  {
   "cell_type": "markdown",
   "id": "69cbf637",
   "metadata": {},
   "source": [
    "6 - Find the average salary of female employees."
   ]
  },
  {
   "cell_type": "code",
   "execution_count": 75,
   "id": "d063513c",
   "metadata": {},
   "outputs": [
    {
     "name": "stdout",
     "output_type": "stream",
     "text": [
      "Averege salery of women: 78500 \n"
     ]
    }
   ],
   "source": [
    "sql_query = \"\"\"\n",
    "    SELECT \n",
    "        CAST(ROUND(AVG(salary),0) AS INTEGER) AS average_salary\n",
    "    FROM employees\n",
    "    WHERE gender = %s; \n",
    "\"\"\"\n",
    "\n",
    "results = get_data(credentials, sql_query, ('Female',))\n",
    "\n",
    "if results:\n",
    "    print(f\"Averege salery of women: {results[0]} \")"
   ]
  },
  {
   "cell_type": "markdown",
   "id": "2daebe7c",
   "metadata": {},
   "source": [
    "7 - Find the average salaries of each department."
   ]
  },
  {
   "cell_type": "code",
   "execution_count": 79,
   "id": "fd6b9a41",
   "metadata": {},
   "outputs": [
    {
     "name": "stdout",
     "output_type": "stream",
     "text": [
      "Technology  \t 67000\n",
      "Marketing  \t 80500\n",
      "Operations  \t 97250\n"
     ]
    }
   ],
   "source": [
    "sql_query = \"\"\"\n",
    "    SELECT \n",
    "        d.dept_name, CAST(ROUND(AVG(e.salary),0) AS INTEGER) AS average_salary\n",
    "    FROM employees e\n",
    "    JOIN departments d ON e.emp_id = d.emp_id\n",
    "    GROUP BY d.dept_name;\n",
    "\"\"\"\n",
    "\n",
    "results = get_data_list(credentials, sql_query)\n",
    "\n",
    "for row in results:\n",
    "    print(f\"{row[0]}  \\t {row[1]}\")"
   ]
  },
  {
   "cell_type": "markdown",
   "id": "56d2045d",
   "metadata": {},
   "source": [
    "8 - Find the oldest and newest employees."
   ]
  },
  {
   "cell_type": "code",
   "execution_count": 87,
   "id": "dda1a998",
   "metadata": {},
   "outputs": [
    {
     "name": "stdout",
     "output_type": "stream",
     "text": [
      "Elvis Ritter 2017-11-24\n",
      "David Barrow 2019-12-02\n"
     ]
    }
   ],
   "source": [
    "sql_query = \"\"\"\n",
    "    SELECT first_name, last_name, hire_date\n",
    "    FROM employees\n",
    "    WHERE hire_date = (SELECT MIN(hire_date) FROM employees)\n",
    "       OR hire_date = (SELECT MAX(hire_date) FROM employees);\n",
    "\"\"\"\n",
    "\n",
    "results = get_data_list(credentials, sql_query)\n",
    "\n",
    "for row in results:\n",
    "    print(row[0] +\" \"+ row[1], row[2])"
   ]
  },
  {
   "cell_type": "markdown",
   "id": "95de0e03",
   "metadata": {},
   "source": [
    "9 - Find the hiring date and department of the highest paid employee"
   ]
  },
  {
   "cell_type": "code",
   "execution_count": 102,
   "id": "fea4e9aa",
   "metadata": {},
   "outputs": [
    {
     "name": "stdout",
     "output_type": "stream",
     "text": [
      "Name: Robert Gilmore\n",
      "Hire Date: 2018-09-04 \n",
      "Department: Operations\n"
     ]
    }
   ],
   "source": [
    "sql_query = \"\"\"\n",
    "    SELECT e.first_name, e.last_name, e.hire_date, d.dept_name\n",
    "    FROM employees e\n",
    "    JOIN departments d ON e.emp_id = d.emp_id\n",
    "    WHERE e.salary = (SELECT MAX(salary) FROM employees);\n",
    "\"\"\"\n",
    "\n",
    "results = get_data(credentials, sql_query)\n",
    "\n",
    "print(f\"Name: {results[0]} {results[1]}\\nHire Date: {results[2]} \\nDepartment: {results[3]}\")"
   ]
  },
  {
   "cell_type": "markdown",
   "id": "5f6a39a7",
   "metadata": {},
   "source": [
    "10 - Find the hiring date and department of the lowest paid employee"
   ]
  },
  {
   "cell_type": "code",
   "execution_count": 116,
   "id": "24704580",
   "metadata": {},
   "outputs": [
    {
     "name": "stdout",
     "output_type": "stream",
     "text": [
      "Name: Billie Lanning\n",
      "Hire Date: 2018-06-25 \n",
      "Department: Technology\n"
     ]
    }
   ],
   "source": [
    "sql_query = \"\"\"\n",
    "    SELECT e.first_name, e.last_name, e.hire_date, d.dept_name\n",
    "    FROM employees e\n",
    "    JOIN departments d ON e.emp_id = d.emp_id\n",
    "    WHERE e.salary = (\n",
    "        SELECT MIN(e2.salary)\n",
    "        FROM employees e2\n",
    "        JOIN departments d2 ON e2.emp_id = d2.emp_id\n",
    "    );\n",
    "\"\"\"\n",
    "\n",
    "results = get_data_list(credentials, sql_query)\n",
    "\n",
    "for row in results:\n",
    "    print(f\"Name: {row[0]} {row[1]}\\nHire Date: {row[2]} \\nDepartment: {row[3]}\")"
   ]
  },
  {
   "cell_type": "code",
   "execution_count": null,
   "id": "b513cb53",
   "metadata": {},
   "outputs": [],
   "source": [
    "import csv\n",
    "import os\n",
    "import psycopg2\n",
    "\n",
    "def read_csv_columns(file_path, columns):\n",
    "    \"\"\"\n",
    "    Belirtilen CSV dosyasından, istenen sütunlardaki verileri tablo olarak döndürür.\n",
    "    :param file_path: CSV dosyasının yolu\n",
    "    :param columns: Almak istediğiniz sütun adlarının listesi\n",
    "    :return: Seçilen sütunlardan oluşan satırların listesi\n",
    "    \"\"\"\n",
    "    results = []\n",
    "    with open(file_path, newline='', encoding='utf-8') as csvfile:\n",
    "        reader = csv.DictReader(csvfile)\n",
    "        for row in reader:\n",
    "            selected = [row[col] for col in columns]\n",
    "            results.append(selected)\n",
    "    return results\n",
    "\n",
    "\n",
    "def insert_kursiyerler(creds, data):\n",
    "    \"\"\"\n",
    "    data: [['Ad Soyad', 'Mail', 'Telefon', 'Posta Kodu', 'Eyalet'], ...]\n",
    "    \"\"\"\n",
    "    conn = psycopg2.connect(**creds)\n",
    "    cur = conn.cursor()\n",
    "    insert_query = \"\"\"\n",
    "        INSERT INTO kursiyerler (AdSoyad, MailAdresi, TelefonNumarasi, PostaKodu, YasadiginizEyalet)\n",
    "        VALUES (%s, %s, %s, %s, %s)\n",
    "        ON CONFLICT DO NOTHING;\n",
    "    \"\"\"\n",
    "    for row in data:\n",
    "        cur.execute(insert_query, row)\n",
    "    conn.commit()\n",
    "    cur.close()\n",
    "    conn.close()\n",
    "\n",
    "# Kullanım örneği:\n",
    "# Önce CSV'den verileri oku\n",
    "file_path = 'Basvurular - Sayfa1.csv'\n",
    "columns = [\"Adınız Soyadınız\", \"Mail adresiniz\", \"Telefon Numaranız\", \"Posta Kodunuz\", \"Yaşadığınız Eyalet\"]\n",
    "liste = read_csv_columns(file_path, columns)\n",
    "\n",
    "# Veritabanı bağlantı bilgileri\n",
    "creds = {\n",
    "    \"dbname\": \"wearehere\",\n",
    "    \"user\": \"postgres\",\n",
    "    \"password\": \"12345\",\n",
    "    \"host\": \"localhost\",\n",
    "    \"port\": \"5432\"\n",
    "}\n",
    "\n",
    "insert_kursiyerler(creds, liste)"
   ]
  },
  {
   "cell_type": "code",
   "execution_count": null,
   "id": "cf68b866",
   "metadata": {},
   "outputs": [
    {
     "ename": "KeyError",
     "evalue": "'ZamanDamgasi'",
     "output_type": "error",
     "traceback": [
      "\u001b[31m---------------------------------------------------------------------------\u001b[39m",
      "\u001b[31mKeyError\u001b[39m                                  Traceback (most recent call last)",
      "\u001b[36mCell\u001b[39m\u001b[36m \u001b[39m\u001b[32mIn[17]\u001b[39m\u001b[32m, line 78\u001b[39m\n\u001b[32m     76\u001b[39m \u001b[38;5;66;03m# Kullanım örneği:\u001b[39;00m\n\u001b[32m     77\u001b[39m file_path = \u001b[33m\"\u001b[39m\u001b[33mBasvurular - Sayfa1.csv\u001b[39m\u001b[33m\"\u001b[39m\n\u001b[32m---> \u001b[39m\u001b[32m78\u001b[39m liste = \u001b[43mread_csv_for_basvurular\u001b[49m\u001b[43m(\u001b[49m\u001b[43mfile_path\u001b[49m\u001b[43m)\u001b[49m\n\u001b[32m     80\u001b[39m creds = {\n\u001b[32m     81\u001b[39m     \u001b[33m\"\u001b[39m\u001b[33mdbname\u001b[39m\u001b[33m\"\u001b[39m: \u001b[33m\"\u001b[39m\u001b[33mwearehere\u001b[39m\u001b[33m\"\u001b[39m,\n\u001b[32m     82\u001b[39m     \u001b[33m\"\u001b[39m\u001b[33muser\u001b[39m\u001b[33m\"\u001b[39m: \u001b[33m\"\u001b[39m\u001b[33mpostgres\u001b[39m\u001b[33m\"\u001b[39m,\n\u001b[32m   (...)\u001b[39m\u001b[32m     85\u001b[39m     \u001b[33m\"\u001b[39m\u001b[33mport\u001b[39m\u001b[33m\"\u001b[39m: \u001b[33m\"\u001b[39m\u001b[33m5432\u001b[39m\u001b[33m\"\u001b[39m\n\u001b[32m     86\u001b[39m }\n\u001b[32m     88\u001b[39m insert_basvurular(creds, liste)\n",
      "\u001b[36mCell\u001b[39m\u001b[36m \u001b[39m\u001b[32mIn[17]\u001b[39m\u001b[32m, line 34\u001b[39m, in \u001b[36mread_csv_for_basvurular\u001b[39m\u001b[34m(file_path)\u001b[39m\n\u001b[32m     30\u001b[39m kursiyer_id = \u001b[32m1\u001b[39m\n\u001b[32m     31\u001b[39m \u001b[38;5;28;01mfor\u001b[39;00m row \u001b[38;5;129;01min\u001b[39;00m reader:\n\u001b[32m     32\u001b[39m     data = [\n\u001b[32m     33\u001b[39m         kursiyer_id,\n\u001b[32m---> \u001b[39m\u001b[32m34\u001b[39m         parse_zaman_damgasi(\u001b[43mrow\u001b[49m\u001b[43m[\u001b[49m\u001b[33;43m\"\u001b[39;49m\u001b[33;43mZamanDamgasi\u001b[39;49m\u001b[33;43m\"\u001b[39;49m\u001b[43m]\u001b[49m),  \u001b[38;5;66;03m# Standart formata çevir\u001b[39;00m\n\u001b[32m     35\u001b[39m         row[\u001b[33m\"\u001b[39m\u001b[33msuankidurum\u001b[39m\u001b[33m\"\u001b[39m],\n\u001b[32m     36\u001b[39m         row[\u001b[33m\"\u001b[39m\u001b[33mitphegitimkatilmak\u001b[39m\u001b[33m\"\u001b[39m],\n\u001b[32m     37\u001b[39m         row[\u001b[33m\"\u001b[39m\u001b[33mekonomikdurum\u001b[39m\u001b[33m\"\u001b[39m],\n\u001b[32m     38\u001b[39m         row[\u001b[33m\"\u001b[39m\u001b[33mdilkursunadevam\u001b[39m\u001b[33m\"\u001b[39m],\n\u001b[32m     39\u001b[39m         row[\u001b[33m\"\u001b[39m\u001b[33mingilizceseviye\u001b[39m\u001b[33m\"\u001b[39m],\n\u001b[32m     40\u001b[39m         row[\u001b[33m\"\u001b[39m\u001b[33mhollandacaseviye\u001b[39m\u001b[33m\"\u001b[39m],\n\u001b[32m     41\u001b[39m         row[\u001b[33m\"\u001b[39m\u001b[33mbaskigoruyor\u001b[39m\u001b[33m\"\u001b[39m],\n\u001b[32m     42\u001b[39m         row[\u001b[33m\"\u001b[39m\u001b[33mbootcampbitirdi\u001b[39m\u001b[33m\"\u001b[39m],\n\u001b[32m     43\u001b[39m         row[\u001b[33m\"\u001b[39m\u001b[33monlineitkursu\u001b[39m\u001b[33m\"\u001b[39m],\n\u001b[32m     44\u001b[39m         row[\u001b[33m\"\u001b[39m\u001b[33mittecrube\u001b[39m\u001b[33m\"\u001b[39m],\n\u001b[32m     45\u001b[39m         row[\u001b[33m\"\u001b[39m\u001b[33mprojedahil\u001b[39m\u001b[33m\"\u001b[39m],\n\u001b[32m     46\u001b[39m         row[\u001b[33m\"\u001b[39m\u001b[33mcalismakistegi\u001b[39m\u001b[33m\"\u001b[39m],\n\u001b[32m     47\u001b[39m         row[\u001b[33m\"\u001b[39m\u001b[33mnedenkatilmakistiyor\u001b[39m\u001b[33m\"\u001b[39m],\n\u001b[32m     48\u001b[39m         row[\u001b[33m\"\u001b[39m\u001b[33mbasvurudonemi\u001b[39m\u001b[33m\"\u001b[39m],\n\u001b[32m     49\u001b[39m     ]\n\u001b[32m     50\u001b[39m     results.append(data)\n\u001b[32m     51\u001b[39m     kursiyer_id += \u001b[32m1\u001b[39m\n",
      "\u001b[31mKeyError\u001b[39m: 'ZamanDamgasi'"
     ]
    }
   ],
   "source": [
    "import csv\n",
    "import psycopg2\n",
    "from datetime import datetime\n",
    "\n",
    "def parse_zaman_damgasi(zaman_str):\n",
    "    \"\"\"\n",
    "    Farklı formatlardaki zaman damgalarını YYYY-MM-DD HH:MM:SS formatına çevirir.\n",
    "    \"\"\"\n",
    "    zaman_str = zaman_str.strip()\n",
    "    formats = [\n",
    "        \"%m/%d/%Y %H:%M:%S\",   # 4/30/2023 21:38:19\n",
    "        \"%d.%m.%y %H:%M\",      # 05.01.23 01:39\n",
    "        \"%d.%m.%y %H:%M:%S\",   # 05.01.23 01:39:00 (varsa)\n",
    "    ]\n",
    "    for fmt in formats:\n",
    "        try:\n",
    "            return datetime.strptime(zaman_str, fmt).strftime(\"%Y-%m-%d %H:%M:%S\")\n",
    "        except ValueError:\n",
    "            continue\n",
    "    raise ValueError(f\"ZamanDamgasi formatı tanınmadı: {zaman_str}\")\n",
    "\n",
    "def read_csv_for_basvurular(file_path):\n",
    "    \"\"\"\n",
    "    CSV'den Basvurular tablosuna uygun verileri okur ve sıralı KursiyerID ekler.\n",
    "    ZamanDamgasi alanını standart formata çevirir.\n",
    "    \"\"\"\n",
    "    results = []\n",
    "    with open(file_path, newline='', encoding='utf-8') as csvfile:\n",
    "        reader = csv.DictReader(csvfile, delimiter='\\t', skipinitialspace=True)\n",
    "        kursiyer_id = 1\n",
    "        for row in reader:\n",
    "            data = [\n",
    "                kursiyer_id,\n",
    "                parse_zaman_damgasi(row[\"zamandamgasi\"]),  # Standart formata çevir\n",
    "                row[\"suankidurum\"],\n",
    "                row[\"itphegitimkatilmak\"],\n",
    "                row[\"ekonomikdurum\"],\n",
    "                row[\"dilkursunadevam\"],\n",
    "                row[\"ingilizceseviye\"],\n",
    "                row[\"hollandacaseviye\"],\n",
    "                row[\"baskigoruyor\"],\n",
    "                row[\"bootcampbitirdi\"],\n",
    "                row[\"onlineitkursu\"],\n",
    "                row[\"ittecrube\"],\n",
    "                row[\"projedahil\"],\n",
    "                row[\"calismakistegi\"],\n",
    "                row[\"nedenkatilmakistiyor\"],\n",
    "                row[\"basvurudonemi\"],\n",
    "            ]\n",
    "            results.append(data)\n",
    "            kursiyer_id += 1\n",
    "    return results\n",
    "\n",
    "def insert_basvurular(creds, data):\n",
    "    \"\"\"\n",
    "    Basvurular tablosuna verileri ekler.\n",
    "    \"\"\"\n",
    "    conn = psycopg2.connect(**creds)\n",
    "    cur = conn.cursor()\n",
    "    insert_query = \"\"\"\n",
    "        INSERT INTO Basvurular (\n",
    "            KursiyerID, ZamanDamgasi, SuAnkiDurum, ITPHEgitimKatilmak, EkonomikDurum,\n",
    "            DilKursunaDevam, IngilizceSeviye, HollandacaSeviye, BaskiGoruyor,\n",
    "            BootcampBitirdi, OnlineITKursu, ITTecrube, ProjeDahil, CalismakIstegi,\n",
    "            NedenKatilmakIstiyor, BasvuruDonemi\n",
    "        )\n",
    "        VALUES (%s, %s, %s, %s, %s, %s, %s, %s, %s, %s, %s, %s, %s, %s, %s, %s)\n",
    "        ON CONFLICT DO NOTHING;\n",
    "    \"\"\"\n",
    "    for row in data:\n",
    "        cur.execute(insert_query, row)\n",
    "    conn.commit()\n",
    "    cur.close()\n",
    "    conn.close()\n",
    "\n",
    "# Kullanım örneği:\n",
    "file_path = \"Basvurular - Sayfa1.csv\"\n",
    "liste = read_csv_for_basvurular(file_path)\n",
    "\n",
    "creds = {\n",
    "    \"dbname\": \"wearehere\",\n",
    "    \"user\": \"postgres\",\n",
    "    \"password\": \"12345\",\n",
    "    \"host\": \"localhost\",\n",
    "    \"port\": \"5432\"\n",
    "}\n",
    "\n",
    "insert_basvurular(creds, liste)"
   ]
  },
  {
   "cell_type": "code",
   "execution_count": 13,
   "id": "6beb2c6c",
   "metadata": {},
   "outputs": [
    {
     "name": "stdout",
     "output_type": "stream",
     "text": [
      "['ZamanDamgasi,Adınız Soyadınız,Mail adresiniz,Telefon Numaranız,Posta Kodunuz,Yaşadığınız Eyalet,suankidurum,itphegitimkatilmak,ekonomikdurum,dilkursunadevam,ingilizceseviye,hollandacaseviye,baskigoruyor,bootcampbitirdi,onlineitkursu,ittecrube,projedahil,calismakistegi,nedenkatilmakistiyor,basvurudonemi,mentorgorusmesi']\n"
     ]
    }
   ],
   "source": [
    "import csv\n",
    "\n",
    "with open(\"Basvurular - Sayfa1.csv\", newline='', encoding='utf-8') as csvfile:\n",
    "    reader = csv.DictReader(csvfile, delimiter='\\t')\n",
    "    print(reader.fieldnames)"
   ]
  }
 ],
 "metadata": {
  "kernelspec": {
   "display_name": "Python 3",
   "language": "python",
   "name": "python3"
  },
  "language_info": {
   "codemirror_mode": {
    "name": "ipython",
    "version": 3
   },
   "file_extension": ".py",
   "mimetype": "text/x-python",
   "name": "python",
   "nbconvert_exporter": "python",
   "pygments_lexer": "ipython3",
   "version": "3.13.3"
  }
 },
 "nbformat": 4,
 "nbformat_minor": 5
}
