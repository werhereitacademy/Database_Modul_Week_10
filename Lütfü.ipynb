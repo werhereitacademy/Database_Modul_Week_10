{
 "cells": [
  {
   "cell_type": "markdown",
   "id": "ccfde88c",
   "metadata": {},
   "source": [
    "Database ve tabloların oluşturulup kayıtların eklenmesi"
   ]
  },
  {
   "cell_type": "code",
   "execution_count": 1,
   "id": "603feaef",
   "metadata": {},
   "outputs": [
    {
     "name": "stdout",
     "output_type": "stream",
     "text": [
      "company veritabanı zaten mevcut.\n",
      "Tablolar oluşturuldu ve veriler eklendi.\n"
     ]
    }
   ],
   "source": [
    "import psycopg2\n",
    "from psycopg2.extensions import ISOLATION_LEVEL_AUTOCOMMIT\n",
    "\n",
    "\n",
    "# Veritabanı bağlantı bilgileri\n",
    "credentials = {\n",
    "    \"dbname\": \"company\",\n",
    "    \"user\": \"postgres\",\n",
    "    \"password\": \"12345\",\n",
    "    \"host\": \"localhost\",\n",
    "    \"port\": \"5432\"\n",
    "}\n",
    "\n",
    "# Veritabanı bağlantı bilgileri\n",
    "credentials = {\n",
    "    \"dbname\": \"company\",\n",
    "    \"user\": \"postgres\",\n",
    "    \"password\": \"12345\",\n",
    "    \"host\": \"localhost\",\n",
    "    \"port\": \"5432\"\n",
    "}\n",
    "\n",
    "# 1. Veritabanını oluştur (yoksa)\n",
    "def create_database(creds):\n",
    "    conn = psycopg2.connect(\n",
    "        dbname=\"postgres\",  # PostgreSQL'in varsayılan veritabanı\n",
    "        user=creds[\"user\"],\n",
    "        password=creds[\"password\"],\n",
    "        host=creds[\"host\"],\n",
    "        port=creds[\"port\"]\n",
    "    )\n",
    "    conn.set_isolation_level(ISOLATION_LEVEL_AUTOCOMMIT)\n",
    "    cur = conn.cursor()\n",
    "    try:\n",
    "        cur.execute(f\"CREATE DATABASE {creds['dbname']};\")\n",
    "        print(f\"{creds['dbname']} veritabanı oluşturuldu.\")\n",
    "    except psycopg2.errors.DuplicateDatabase:\n",
    "        print(f\"{creds['dbname']} veritabanı zaten mevcut.\")\n",
    "    finally:\n",
    "        cur.close()\n",
    "        conn.close()\n",
    "\n",
    "# 2. Tabloları oluştur ve veri ekle\n",
    "def create_tables_and_insert_data(creds):\n",
    "    conn = psycopg2.connect(**creds)\n",
    "    cur = conn.cursor()\n",
    "\n",
    "    # Mevcutsa silip yeniden oluşturmak istiyorsan önce drop komutu da eklenebilir:\n",
    "    cur.execute(\"DROP TABLE IF EXISTS departments;\")\n",
    "    cur.execute(\"DROP TABLE IF EXISTS employees;\")\n",
    "\n",
    "    # departments tablosu\n",
    "    cur.execute(\"\"\"\n",
    "        CREATE TABLE departments (\n",
    "            emp_id INTEGER PRIMARY KEY,\n",
    "            dept_name VARCHAR(50),\n",
    "            dept_id INTEGER\n",
    "        );\n",
    "    \"\"\")\n",
    "\n",
    "    # employees tablosu\n",
    "    cur.execute(\"\"\"\n",
    "        CREATE TABLE employees (\n",
    "            emp_id INTEGER PRIMARY KEY,\n",
    "            first_name VARCHAR(50),\n",
    "            last_name VARCHAR(50),\n",
    "            salary INTEGER,\n",
    "            job_title VARCHAR(100),\n",
    "            gender VARCHAR(10),\n",
    "            hire_date DATE\n",
    "        );\n",
    "    \"\"\")\n",
    "\n",
    "    # Örnek veriler\n",
    "    departments_data = [\n",
    "        (17679, \"Operations\", 13),\n",
    "        (26650, \"Marketing\", 14),\n",
    "        (30840, \"Operations\", 13),\n",
    "        (49823, \"Technology\", 12),\n",
    "        (51821, \"Operations\", 13),\n",
    "        (67323, \"Marketing\", 14),\n",
    "        (71119, \"Administrative\", 11),\n",
    "        (76589, \"Operations\", 13),\n",
    "        (97927, \"Technology\", 12)\n",
    "    ]\n",
    "\n",
    "    employees_data = [\n",
    "        (17679, \"Robert\", \"Gilmore\", 110000, \"Operations Director\", \"Male\", \"2018-09-04\"),\n",
    "        (26650, \"Elvis\", \"Ritter\", 86000, \"Sales Manager\", \"Male\", \"2017-11-24\"),\n",
    "        (30840, \"David\", \"Barrow\", 85000, \"Data Scientist\", \"Male\", \"2019-12-02\"),\n",
    "        (49714, \"Hugo\", \"Forester\", 55000, \"IT Support Specialist\", \"Male\", \"2019-11-22\"),\n",
    "        (51821, \"Linda\", \"Foster\", 95000, \"Data Scientist\", \"Female\", \"2019-04-29\"),\n",
    "        (67323, \"Lisa\", \"Wiener\", 75000, \"Business Analyst\", \"Female\", \"2018-08-09\"),\n",
    "        (70950, \"Rodney\", \"Weaver\", 87000, \"Project Manager\", \"Male\", \"2018-12-20\"),\n",
    "        (71329, \"Gayle\", \"Meyer\", 77000, \"HR Manager\", \"Female\", \"2019-06-28\"),\n",
    "        (76589, \"Jason\", \"Christian\", 99000, \"Project Manager\", \"Male\", \"2019-01-21\"),\n",
    "        (97927, \"Billie\", \"Lanning\", 67000, \"Web Developer\", \"Female\", \"2018-06-25\")\n",
    "    ]\n",
    "\n",
    "    # Verileri ekle\n",
    "    cur.executemany(\"\"\"\n",
    "        INSERT INTO departments (emp_id, dept_name, dept_id)\n",
    "        VALUES (%s, %s, %s);\n",
    "    \"\"\", departments_data)\n",
    "\n",
    "    cur.executemany(\"\"\"\n",
    "        INSERT INTO employees (emp_id, first_name, last_name, salary, job_title, gender, hire_date)\n",
    "        VALUES (%s, %s, %s, %s, %s, %s, %s);\n",
    "    \"\"\", employees_data)\n",
    "\n",
    "    conn.commit()\n",
    "    cur.close()\n",
    "    conn.close()\n",
    "    print(\"Tablolar oluşturuldu ve veriler eklendi.\")\n",
    "\n",
    "# Hepsini çalıştır\n",
    "create_database(credentials)\n",
    "create_tables_and_insert_data(credentials)\n"
   ]
  },
  {
   "cell_type": "code",
   "execution_count": 2,
   "id": "782347a8",
   "metadata": {},
   "outputs": [
    {
     "name": "stdout",
     "output_type": "stream",
     "text": [
      "company veritabanı zaten mevcut.\n"
     ]
    }
   ],
   "source": [
    "def create_database(creds):\n",
    "    conn = psycopg2.connect(\n",
    "        dbname=\"postgres\",\n",
    "        user=creds[\"user\"],\n",
    "        password=creds[\"password\"],\n",
    "        host=creds[\"host\"],\n",
    "        port=creds[\"port\"]\n",
    "    )\n",
    "    conn.set_isolation_level(ISOLATION_LEVEL_AUTOCOMMIT)\n",
    "    cur = conn.cursor()\n",
    "    try:\n",
    "        cur.execute(f\"CREATE DATABASE {creds['dbname']};\")\n",
    "        print(f\"{creds['dbname']} veritabanı oluşturuldu.\")\n",
    "    except psycopg2.errors.DuplicateDatabase:\n",
    "        print(f\"{creds['dbname']} veritabanı zaten mevcut.\")\n",
    "    finally:\n",
    "        cur.close()\n",
    "        conn.close()\n",
    "\n",
    "create_database(credentials)"
   ]
  },
  {
   "cell_type": "code",
   "execution_count": 3,
   "id": "185907c2",
   "metadata": {},
   "outputs": [],
   "source": [
    "def run_query(query, creds):\n",
    "    conn = psycopg2.connect(**creds)\n",
    "    cur = conn.cursor()\n",
    "    cur.execute(query)\n",
    "    results = cur.fetchall()\n",
    "    for row in results:\n",
    "        print(row)\n",
    "    cur.close()\n",
    "    conn.close()"
   ]
  },
  {
   "cell_type": "markdown",
   "id": "98eef3aa",
   "metadata": {},
   "source": [
    "1 - Find the employees who get paid more than Rodney Weaver."
   ]
  },
  {
   "cell_type": "code",
   "execution_count": 4,
   "id": "2f3ccbad",
   "metadata": {},
   "outputs": [
    {
     "name": "stdout",
     "output_type": "stream",
     "text": [
      "('Robert', 'Gilmore', 110000)\n",
      "('Linda', 'Foster', 95000)\n",
      "('Jason', 'Christian', 99000)\n"
     ]
    }
   ],
   "source": [
    "query = \"\"\"\n",
    "SELECT first_name, last_name, salary\n",
    "FROM employees\n",
    "WHERE salary > (\n",
    "    SELECT salary FROM employees\n",
    "    WHERE first_name = 'Rodney' AND last_name = 'Weaver'\n",
    ");\n",
    "\"\"\"\n",
    "\n",
    "run_query(query, credentials)"
   ]
  },
  {
   "cell_type": "markdown",
   "id": "0cc3d918",
   "metadata": {},
   "source": [
    "2 - Find the average, min and max salaries"
   ]
  },
  {
   "cell_type": "code",
   "execution_count": 5,
   "id": "eb7d3b7a",
   "metadata": {},
   "outputs": [
    {
     "name": "stdout",
     "output_type": "stream",
     "text": [
      "(Decimal('83600.000000000000'), 55000, 110000)\n"
     ]
    }
   ],
   "source": [
    "query2 = \"\"\"\n",
    "SELECT AVG(salary) AS avg_salary,\n",
    "       MIN(salary) AS min_salary,\n",
    "       MAX(salary) AS max_salary\n",
    "FROM employees;\n",
    "\"\"\"\n",
    "run_query(query2, credentials)"
   ]
  },
  {
   "cell_type": "markdown",
   "id": "441acbe5",
   "metadata": {},
   "source": [
    "3 - Find the employees whose salary is more than 8700. Our query should return first name, last name, and salary info of the employees."
   ]
  },
  {
   "cell_type": "code",
   "execution_count": 6,
   "id": "ad5339d6",
   "metadata": {},
   "outputs": [
    {
     "name": "stdout",
     "output_type": "stream",
     "text": [
      "('Robert', 'Gilmore', 110000)\n",
      "('Elvis', 'Ritter', 86000)\n",
      "('David', 'Barrow', 85000)\n",
      "('Hugo', 'Forester', 55000)\n",
      "('Linda', 'Foster', 95000)\n",
      "('Lisa', 'Wiener', 75000)\n",
      "('Rodney', 'Weaver', 87000)\n",
      "('Gayle', 'Meyer', 77000)\n",
      "('Jason', 'Christian', 99000)\n",
      "('Billie', 'Lanning', 67000)\n"
     ]
    }
   ],
   "source": [
    "query3 = \"\"\"\n",
    "SELECT first_name, last_name, salary\n",
    "FROM employees\n",
    "WHERE salary > 8700;\n",
    "\"\"\"\n",
    "run_query(query3, credentials)\n"
   ]
  },
  {
   "cell_type": "markdown",
   "id": "1185cde6",
   "metadata": {},
   "source": [
    "4 - Find the employees (first name, last name from employees table) who work under the Operations department (departments table). Our query should return first name and last name info."
   ]
  },
  {
   "cell_type": "code",
   "execution_count": null,
   "id": "b915a1f3",
   "metadata": {},
   "outputs": [
    {
     "name": "stdout",
     "output_type": "stream",
     "text": [
      "('Robert', 'Gilmore')\n",
      "('David', 'Barrow')\n",
      "('Linda', 'Foster')\n",
      "('Jason', 'Christian')\n"
     ]
    }
   ],
   "source": [
    "query4 = \"\"\"\n",
    "SELECT e.first_name, e.last_name\n",
    "FROM employees e\n",
    "JOIN departments d ON e.emp_id = d.emp_id\n",
    "WHERE d.dept_name = 'Operations';\n",
    "\"\"\"\n",
    "run_query(query4, credentials)\n",
    "#31354422222222222"
   ]
  },
  {
   "cell_type": "markdown",
   "id": "68db64e1",
   "metadata": {},
   "source": [
    "5 - Find the employees (first name, last name from employees table) who work under the Technology department (departments table). Our query should return first name and last name info."
   ]
  },
  {
   "cell_type": "code",
   "execution_count": 8,
   "id": "c520fe98",
   "metadata": {},
   "outputs": [
    {
     "name": "stdout",
     "output_type": "stream",
     "text": [
      "('Billie', 'Lanning')\n"
     ]
    }
   ],
   "source": [
    "query5 = \"\"\"\n",
    "SELECT e.first_name, e.last_name\n",
    "FROM employees e\n",
    "JOIN departments d ON e.emp_id = d.emp_id\n",
    "WHERE d.dept_name = 'Technology';\n",
    "\"\"\"\n",
    "run_query(query5, credentials)"
   ]
  },
  {
   "cell_type": "markdown",
   "id": "69cbf637",
   "metadata": {},
   "source": [
    "6 - Find the average salary of female employees."
   ]
  },
  {
   "cell_type": "code",
   "execution_count": 9,
   "id": "d063513c",
   "metadata": {},
   "outputs": [
    {
     "name": "stdout",
     "output_type": "stream",
     "text": [
      "(Decimal('78500.000000000000'),)\n"
     ]
    }
   ],
   "source": [
    "query6 = \"\"\"\n",
    "SELECT AVG(salary) AS avg_female_salary\n",
    "FROM employees\n",
    "WHERE gender = 'Female';\n",
    "\"\"\"\n",
    "run_query(query6, credentials)"
   ]
  },
  {
   "cell_type": "markdown",
   "id": "2daebe7c",
   "metadata": {},
   "source": [
    "7 - Find the average salaries of each department."
   ]
  },
  {
   "cell_type": "code",
   "execution_count": 10,
   "id": "fd6b9a41",
   "metadata": {},
   "outputs": [
    {
     "name": "stdout",
     "output_type": "stream",
     "text": [
      "('Technology', Decimal('67000.000000000000'))\n",
      "('Marketing', Decimal('80500.000000000000'))\n",
      "('Operations', Decimal('97250.000000000000'))\n"
     ]
    }
   ],
   "source": [
    "query7 = \"\"\"\n",
    "SELECT d.dept_name, AVG(e.salary) AS avg_salary\n",
    "FROM employees e\n",
    "JOIN departments d ON e.emp_id = d.emp_id\n",
    "GROUP BY d.dept_name;\n",
    "\"\"\"\n",
    "run_query(query7, credentials)"
   ]
  },
  {
   "cell_type": "markdown",
   "id": "56d2045d",
   "metadata": {},
   "source": [
    "8 - Find the oldest and newest employees."
   ]
  },
  {
   "cell_type": "code",
   "execution_count": 11,
   "id": "dda1a998",
   "metadata": {},
   "outputs": [
    {
     "name": "stdout",
     "output_type": "stream",
     "text": [
      "('Elvis', 'Ritter', datetime.date(2017, 11, 24))\n",
      "('David', 'Barrow', datetime.date(2019, 12, 2))\n"
     ]
    }
   ],
   "source": [
    "query8 = \"\"\"\n",
    "SELECT first_name, last_name, hire_date\n",
    "FROM employees\n",
    "WHERE hire_date = (SELECT MIN(hire_date) FROM employees)\n",
    "   OR hire_date = (SELECT MAX(hire_date) FROM employees);\n",
    "\"\"\"\n",
    "run_query(query8, credentials)"
   ]
  },
  {
   "cell_type": "markdown",
   "id": "95de0e03",
   "metadata": {},
   "source": [
    "9 - Find the hiring date and department of the highest paid employee"
   ]
  },
  {
   "cell_type": "code",
   "execution_count": 12,
   "id": "fea4e9aa",
   "metadata": {},
   "outputs": [
    {
     "name": "stdout",
     "output_type": "stream",
     "text": [
      "(datetime.date(2018, 9, 4), 'Operations')\n"
     ]
    }
   ],
   "source": [
    "query9 = \"\"\"\n",
    "SELECT e.hire_date, d.dept_name\n",
    "FROM employees e\n",
    "JOIN departments d ON e.emp_id = d.emp_id\n",
    "WHERE e.salary = (SELECT MAX(salary) FROM employees);\n",
    "\"\"\"\n",
    "run_query(query9, credentials)\n"
   ]
  },
  {
   "cell_type": "markdown",
   "id": "5f6a39a7",
   "metadata": {},
   "source": [
    "10 - Find the hiring date and department of the lowest paid employee"
   ]
  },
  {
   "cell_type": "code",
   "execution_count": 13,
   "id": "24704580",
   "metadata": {},
   "outputs": [],
   "source": [
    "query10 = \"\"\"\n",
    "SELECT e.hire_date, d.dept_name\n",
    "FROM employees e\n",
    "JOIN departments d ON e.emp_id = d.emp_id\n",
    "WHERE e.salary = (SELECT MIN(salary) FROM employees);\n",
    "\"\"\"\n",
    "run_query(query10, credentials)"
   ]
  }
 ],
 "metadata": {
  "kernelspec": {
   "display_name": "Python 3",
   "language": "python",
   "name": "python3"
  },
  "language_info": {
   "codemirror_mode": {
    "name": "ipython",
    "version": 3
   },
   "file_extension": ".py",
   "mimetype": "text/x-python",
   "name": "python",
   "nbconvert_exporter": "python",
   "pygments_lexer": "ipython3",
   "version": "3.13.2"
  }
 },
 "nbformat": 4,
 "nbformat_minor": 5
}
