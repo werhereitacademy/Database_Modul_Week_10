{
 "cells": [
  {
   "cell_type": "markdown",
   "id": "ccfde88c",
   "metadata": {},
   "source": [
    "Database ve tabloların oluşturulup kayıtların eklenmesi"
   ]
  },
  {
   "cell_type": "code",
   "execution_count": 1,
   "id": "603feaef",
   "metadata": {},
   "outputs": [],
   "source": [
    "import psycopg2\n",
    "\n",
    "# Global olarak erişilecek nesneler\n",
    "conn = None\n",
    "cur = None\n",
    "\n",
    "def baslat():\n",
    "    global conn, cur\n",
    "    conn = psycopg2.connect(\n",
    "        host=\"localhost\",\n",
    "        dbname=\"homework\",\n",
    "        user=\"postgres\",\n",
    "        password=\"1234\",\n",
    "        port=\"5432\"\n",
    "    )\n",
    "    cur = conn.cursor()\n",
    "    print(\"Veritabanı bağlantısı açıldı.\")\n",
    "\n",
    "def bitir():\n",
    "    global conn, cur\n",
    "    if cur:\n",
    "        cur.close()\n",
    "    if conn:\n",
    "        conn.commit()\n",
    "        conn.close()\n",
    "        print(\"Veritabanı bağlantısı kapatıldı.\")\n"
   ]
  },
  {
   "cell_type": "code",
   "execution_count": 2,
   "id": "5facdffc",
   "metadata": {},
   "outputs": [
    {
     "name": "stdout",
     "output_type": "stream",
     "text": [
      "Veritabanı bağlantısı açıldı.\n",
      "Tablolar oluşturuldu (varsa zaten dokunulmadı).\n",
      "Veritabanı bağlantısı kapatıldı.\n"
     ]
    }
   ],
   "source": [
    "baslat()\n",
    "\n",
    "cur.execute(\"\"\"\n",
    "    CREATE TABLE IF NOT EXISTS employees (\n",
    "        emp_id INT PRIMARY KEY,\n",
    "        first_name VARCHAR(50),\n",
    "        last_name VARCHAR(50),\n",
    "        salary INT,\n",
    "        job_title VARCHAR(55),\n",
    "        gender VARCHAR(6) CHECK (gender IN ('Female', 'Male')),\n",
    "        hire_date DATE\n",
    "    );\n",
    "\n",
    "    CREATE TABLE IF NOT EXISTS departments (\n",
    "        dept_id INT,\n",
    "        dept_name VARCHAR(50),\n",
    "        emp_id INT REFERENCES employees(emp_id)\n",
    "    );\n",
    "\"\"\")\n",
    "\n",
    "print(\"Tablolar oluşturuldu (varsa zaten dokunulmadı).\")\n",
    "\n",
    "bitir()\n"
   ]
  },
  {
   "cell_type": "code",
   "execution_count": 3,
   "id": "a23cc73f",
   "metadata": {},
   "outputs": [
    {
     "name": "stdout",
     "output_type": "stream",
     "text": [
      "Veritabanı bağlantısı açıldı.\n",
      "Veritabanı bağlantısı kapatıldı.\n"
     ]
    }
   ],
   "source": [
    "baslat()\n",
    "cur.execute(\"\"\"\n",
    "    INSERT INTO employees (emp_id, first_name, last_name, salary, job_title, gender, hire_date) VALUES\n",
    "    (17679, 'Robert', 'Gilmore', 110000, 'Operations Director', 'Male', '2018-09-04'),\n",
    "    (26650, 'Elvis', 'Ritter', 86000, 'Sales Manager', 'Male', '2017-11-24'),\n",
    "    (30840, 'David', 'Barrow', 85000, 'Data Scientist', 'Male', '2019-12-02'),\n",
    "    (49714, 'Hugo', 'Forester', 55000, 'IT Support Specialist', 'Male', '2019-11-22'),\n",
    "    (51821, 'Linda', 'Foster', 95000, 'Data Scientist', 'Female', '2019-04-29'),\n",
    "    (67323, 'Lisa', 'Wiener', 75000, 'Business Analyst', 'Female', '2018-08-09'),\n",
    "    (70950, 'Rodney', 'Weaver', 87000, 'Project Manager', 'Male', '2018-12-20'),\n",
    "    (71329, 'Gayle', 'Meyer', 77000, 'HR Manager', 'Female', '2019-06-28'),\n",
    "    (76589, 'Jason', 'Christian', 99000, 'Project Manager', 'Male', '2019-01-21'),\n",
    "    (97927, 'Bille', 'Lanning', 67000, 'Web Developer', 'Female', '2018-06-25');\n",
    "\"\"\")\n",
    "\n",
    "cur.execute(\"\"\"\n",
    "    INSERT INTO departments (dept_id, dept_name, emp_id) VALUES\n",
    "    (13, 'Operations', 17679),\n",
    "    (14, 'Marketing', 26650),\n",
    "    (13, 'Operations', 30840),\n",
    "    (12, 'Technology', 49714),\n",
    "    (13, 'Operations', 51821),\n",
    "    (14, 'Marketing', 67323),\n",
    "    (11, 'Administrative', 70950),\n",
    "    (13, 'Operations', 76589),\n",
    "    (12, 'Technology', 97927);\n",
    "\"\"\")\n",
    "\n",
    "bitir()"
   ]
  },
  {
   "cell_type": "markdown",
   "id": "98eef3aa",
   "metadata": {},
   "source": [
    "1 - Find the employees who get paid more than Rodney Weaver."
   ]
  },
  {
   "cell_type": "code",
   "execution_count": 4,
   "id": "2f3ccbad",
   "metadata": {},
   "outputs": [
    {
     "name": "stdout",
     "output_type": "stream",
     "text": [
      "Veritabanı bağlantısı açıldı.\n",
      "(17679, 'Robert', 'Gilmore', 110000, 'Operations Director', 'Male', datetime.date(2018, 9, 4))\n",
      "(51821, 'Linda', 'Foster', 95000, 'Data Scientist', 'Female', datetime.date(2019, 4, 29))\n",
      "(76589, 'Jason', 'Christian', 99000, 'Project Manager', 'Male', datetime.date(2019, 1, 21))\n",
      "Veritabanı bağlantısı kapatıldı.\n"
     ]
    }
   ],
   "source": [
    "baslat()\n",
    "\n",
    "cur.execute(\"\"\"SELECT * FROM employees \n",
    "            WHERE salary > (SELECT salary FROM employees WHERE first_name = 'Rodney' AND last_name = 'Weaver');\n",
    "\"\"\")\n",
    "\n",
    "for row in cur.fetchall():\n",
    "    print(row)\n",
    "\n",
    "bitir()"
   ]
  },
  {
   "cell_type": "markdown",
   "id": "0cc3d918",
   "metadata": {},
   "source": [
    "2 - Find the average, min and max salaries"
   ]
  },
  {
   "cell_type": "code",
   "execution_count": 5,
   "id": "eb7d3b7a",
   "metadata": {},
   "outputs": [
    {
     "name": "stdout",
     "output_type": "stream",
     "text": [
      "Veritabanı bağlantısı açıldı.\n",
      "ortalama maaş: 83600.00\n",
      "maximum maaş: 110000\n",
      "minimum maaş: 55000\n",
      "Veritabanı bağlantısı kapatıldı.\n"
     ]
    }
   ],
   "source": [
    "baslat()\n",
    "\n",
    "cur.execute(\"\"\"\n",
    "    SELECT \n",
    "        ROUND(AVG(salary), 2) AS average_salary,\n",
    "        MAX(salary) AS max_salary,\n",
    "        MIN(salary) AS min_salary\n",
    "    FROM employees;\n",
    "\"\"\")\n",
    "result = cur.fetchall()\n",
    "print(f\"ortalama maaş: {result[0][0]}\")\n",
    "print(f\"maximum maaş: {result[0][1]}\")\n",
    "print(f\"minimum maaş: {result[0][2]}\")\n",
    "\n",
    "bitir()"
   ]
  },
  {
   "cell_type": "markdown",
   "id": "441acbe5",
   "metadata": {},
   "source": [
    "3 - Find the employees whose salary is more than 8700. Our query should return first name, last name, and salary info of the employees."
   ]
  },
  {
   "cell_type": "code",
   "execution_count": 6,
   "id": "ad5339d6",
   "metadata": {},
   "outputs": [
    {
     "name": "stdout",
     "output_type": "stream",
     "text": [
      "Veritabanı bağlantısı açıldı.\n",
      "Robert Gilmore - 110000\n",
      "Linda Foster - 95000\n",
      "Jason Christian - 99000\n",
      "Veritabanı bağlantısı kapatıldı.\n"
     ]
    }
   ],
   "source": [
    "baslat()\n",
    "\n",
    "cur.execute(\"\"\"SELECT first_name, last_name, salary FROM employees\n",
    "WHERE salary > 87000\"\"\")\n",
    "result = cur.fetchall()\n",
    "for a,b,c in result:\n",
    "    print(a,b,\"-\",c)\n",
    "\n",
    "bitir()"
   ]
  },
  {
   "cell_type": "markdown",
   "id": "1185cde6",
   "metadata": {},
   "source": [
    "4 - Find the employees (first name, last name from employees table) who work under the Operations department (departments table). Our query should return first name and last name info."
   ]
  },
  {
   "cell_type": "code",
   "execution_count": 7,
   "id": "b915a1f3",
   "metadata": {},
   "outputs": [
    {
     "name": "stdout",
     "output_type": "stream",
     "text": [
      "Veritabanı bağlantısı açıldı.\n",
      "Robert Gilmore\n",
      "Elvis Ritter\n",
      "David Barrow\n",
      "Hugo Forester\n",
      "Linda Foster\n",
      "Lisa Wiener\n",
      "Rodney Weaver\n",
      "Jason Christian\n",
      "Bille Lanning\n"
     ]
    }
   ],
   "source": [
    "baslat()\n",
    "\n",
    "cur.execute(\"\"\"SELECT first_name, last_name\n",
    "FROM departments JOIN employees\n",
    "ON departments.emp_id = employees.emp_id;\"\"\")\n",
    "for a,b in cur.fetchall():\n",
    "    print(a,b)"
   ]
  },
  {
   "cell_type": "markdown",
   "id": "68db64e1",
   "metadata": {},
   "source": [
    "5 - Find the employees (first name, last name from employees table) who work under the Technology department (departments table). Our query should return first name and last name info."
   ]
  },
  {
   "cell_type": "code",
   "execution_count": 8,
   "id": "c520fe98",
   "metadata": {},
   "outputs": [
    {
     "name": "stdout",
     "output_type": "stream",
     "text": [
      "Veritabanı bağlantısı açıldı.\n",
      "Hugo Forester\n",
      "Bille Lanning\n"
     ]
    }
   ],
   "source": [
    "baslat()\n",
    "\n",
    "cur.execute(\"\"\"SELECT first_name, last_name\n",
    "FROM departments JOIN employees\n",
    "ON departments.emp_id = employees.emp_id\n",
    "WHERE departments.dept_name = 'Technology';\"\"\")\n",
    "\n",
    "for a,b in cur.fetchall():\n",
    "    print(a,b)"
   ]
  },
  {
   "cell_type": "markdown",
   "id": "69cbf637",
   "metadata": {},
   "source": [
    "6 - Find the average salary of female employees."
   ]
  },
  {
   "cell_type": "code",
   "execution_count": 9,
   "id": "d063513c",
   "metadata": {},
   "outputs": [
    {
     "name": "stdout",
     "output_type": "stream",
     "text": [
      "Veritabanı bağlantısı açıldı.\n",
      "78500.00\n",
      "Veritabanı bağlantısı kapatıldı.\n"
     ]
    }
   ],
   "source": [
    "baslat()\n",
    "\n",
    "cur.execute(\"\"\"SELECT ROUND(AVG(salary),2)\n",
    "FROM employees\n",
    "WHERE gender = 'Female';\"\"\")\n",
    "\n",
    "ortalama = cur.fetchone()\n",
    "print(ortalama[0])\n",
    "\n",
    "bitir()"
   ]
  },
  {
   "cell_type": "markdown",
   "id": "2daebe7c",
   "metadata": {},
   "source": [
    "7 - Find the average salaries of each department."
   ]
  },
  {
   "cell_type": "code",
   "execution_count": 10,
   "id": "fd6b9a41",
   "metadata": {},
   "outputs": [
    {
     "name": "stdout",
     "output_type": "stream",
     "text": [
      "Veritabanı bağlantısı açıldı.\n",
      "Departman Adı - Ortalama Maaş\n",
      "------------------------------\n",
      "Technology - 61000.00\n",
      "Marketing - 80500.00\n",
      "Operations - 97250.00\n",
      "Administrative - 87000.00\n",
      "Veritabanı bağlantısı kapatıldı.\n"
     ]
    }
   ],
   "source": [
    "baslat()\n",
    "\n",
    "cur.execute(\"\"\"SELECT departments.dept_name AS \"Departman Adı\", ROUND(AVG(salary),2) AS \"Ortalama_maaş\"\n",
    "FROM employees JOIN departments\n",
    "ON employees.emp_id = departments.emp_id \n",
    "GROUP BY departments.dept_name;\"\"\")\n",
    "\n",
    "rows = cur.fetchall()\n",
    "\n",
    "print(\"Departman Adı - Ortalama Maaş\")\n",
    "print(\"------------------------------\")\n",
    "\n",
    "for row in rows:\n",
    "    print(f\"{row[0]} - {row[1]}\")\n",
    "\n",
    "bitir()"
   ]
  },
  {
   "cell_type": "markdown",
   "id": "56d2045d",
   "metadata": {},
   "source": [
    "8 - Find the oldest and newest employees."
   ]
  },
  {
   "cell_type": "code",
   "execution_count": 14,
   "id": "dda1a998",
   "metadata": {},
   "outputs": [
    {
     "name": "stdout",
     "output_type": "stream",
     "text": [
      "Veritabanı bağlantısı açıldı.\n",
      "En uzun Çalışan:\n",
      "(26650, 'Elvis', 'Ritter', 86000, 'Sales Manager', 'Male', datetime.date(2017, 11, 24))\n",
      "En kısa Çalışan:\n",
      "(30840, 'David', 'Barrow', 85000, 'Data Scientist', 'Male', datetime.date(2019, 12, 2))\n",
      "Veritabanı bağlantısı kapatıldı.\n"
     ]
    }
   ],
   "source": [
    "baslat()\n",
    "\n",
    "cur.execute(\"\"\"SELECT * FROM employees\n",
    "ORDER BY hire_date ASC\n",
    "LIMIT 1;\"\"\")\n",
    "\n",
    "print(f\"En uzun Çalışan:\\n{cur.fetchone()}\")\n",
    "\n",
    "cur.execute(\"\"\"SELECT * FROM employees\n",
    "ORDER BY hire_date DESC\n",
    "LIMIT 1;\"\"\")\n",
    "\n",
    "print(f\"En kısa Çalışan:\\n{cur.fetchone()}\")\n",
    "\n",
    "bitir()"
   ]
  },
  {
   "cell_type": "markdown",
   "id": "95de0e03",
   "metadata": {},
   "source": [
    "9 - Find the hiring date and department of the highest paid employee"
   ]
  },
  {
   "cell_type": "code",
   "execution_count": 16,
   "id": "fea4e9aa",
   "metadata": {},
   "outputs": [
    {
     "name": "stdout",
     "output_type": "stream",
     "text": [
      "Veritabanı bağlantısı açıldı.\n",
      "En yüksek maaş alanın işe giriş tarihi: 2019-11-22\n",
      "En yüksek maaş alanın departman adı: Technology\n",
      "Veritabanı bağlantısı kapatıldı.\n"
     ]
    }
   ],
   "source": [
    "baslat()\n",
    "\n",
    "cur.execute(\"\"\"SELECT hire_date, dept_name\n",
    "FROM employees JOIN departments\n",
    "ON employees.emp_id = departments.emp_id\n",
    "ORDER BY salary\n",
    "LIMIT 1;\"\"\")\n",
    "\n",
    "result = cur.fetchall()\n",
    "\n",
    "print(f\"En yüksek maaş alanın işe giriş tarihi: {result[0][0]}\")\n",
    "print(f\"En yüksek maaş alanın departman adı: {result[0][1]}\")\n",
    "\n",
    "bitir()"
   ]
  },
  {
   "cell_type": "markdown",
   "id": "5f6a39a7",
   "metadata": {},
   "source": [
    "10 - Find the hiring date and department of the lowest paid employee"
   ]
  },
  {
   "cell_type": "code",
   "execution_count": 17,
   "id": "24704580",
   "metadata": {},
   "outputs": [
    {
     "name": "stdout",
     "output_type": "stream",
     "text": [
      "Veritabanı bağlantısı açıldı.\n",
      "En düşük maaş alanın işe giriş tarihi: 2018-09-04\n",
      "En düşük maaş alanın departman adı: Operations\n",
      "Veritabanı bağlantısı kapatıldı.\n"
     ]
    }
   ],
   "source": [
    "baslat()\n",
    "\n",
    "cur.execute(\"\"\"SELECT hire_date, dept_name\n",
    "FROM employees JOIN departments\n",
    "ON employees.emp_id = departments.emp_id\n",
    "ORDER BY salary DESC\n",
    "LIMIT 1;\"\"\")\n",
    "\n",
    "result = cur.fetchall()\n",
    "\n",
    "print(f\"En düşük maaş alanın işe giriş tarihi: {result[0][0]}\")\n",
    "print(f\"En düşük maaş alanın departman adı: {result[0][1]}\")\n",
    "\n",
    "bitir()"
   ]
  }
 ],
 "metadata": {
  "kernelspec": {
   "display_name": "Python 3",
   "language": "python",
   "name": "python3"
  },
  "language_info": {
   "codemirror_mode": {
    "name": "ipython",
    "version": 3
   },
   "file_extension": ".py",
   "mimetype": "text/x-python",
   "name": "python",
   "nbconvert_exporter": "python",
   "pygments_lexer": "ipython3",
   "version": "3.13.3"
  }
 },
 "nbformat": 4,
 "nbformat_minor": 5
}
